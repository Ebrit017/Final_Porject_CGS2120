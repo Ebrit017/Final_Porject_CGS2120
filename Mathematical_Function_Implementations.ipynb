{
  "nbformat": 4,
  "nbformat_minor": 0,
  "metadata": {
    "colab": {
      "provenance": [],
      "authorship_tag": "ABX9TyM3MkN0BWORKS6jDTn6jnwP",
      "include_colab_link": true
    },
    "kernelspec": {
      "name": "python3",
      "display_name": "Python 3"
    },
    "language_info": {
      "name": "python"
    }
  },
  "cells": [
    {
      "cell_type": "markdown",
      "metadata": {
        "id": "view-in-github",
        "colab_type": "text"
      },
      "source": [
        "<a href=\"https://colab.research.google.com/github/Ebrit017/Final_Porject_CGS2120/blob/main/Mathematical_Function_Implementations.ipynb\" target=\"_parent\"><img src=\"https://colab.research.google.com/assets/colab-badge.svg\" alt=\"Open In Colab\"/></a>"
      ]
    },
    {
      "cell_type": "markdown",
      "source": [
        "# Factorial Function"
      ],
      "metadata": {
        "id": "urPyQC0maUT4"
      }
    },
    {
      "source": [
        "# Factorial Function\n",
        "def factorial(n):\n",
        "  \"\"\"\n",
        "  Calculates the factorial of a non-negative integer.\n",
        "\n",
        "  Args:\n",
        "    n: The non-negative integer.\n",
        "\n",
        "  Returns:\n",
        "    The factorial of n.\n",
        "  \"\"\"\n",
        "  if n < 0: # Checks if n is negative\n",
        "    raise ValueError(\"Factorial is not defined for negative numbers\")\n",
        "  elif n == 0: # Checks if n equals 0\n",
        "    return 1\n",
        "  else: # If n is not negative or positive\n",
        "    result = 1\n",
        "    for i in range(1, n + 1):\n",
        "      result *= i\n",
        "    return result\n",
        "\n",
        "# Function Utilization\n",
        "factorials = [5, 7, 10]\n",
        "for num in factorials:\n",
        "  fact = factorial(num)\n",
        "  print(f\"The factorial of {num} is {fact}\")"
      ],
      "cell_type": "code",
      "metadata": {
        "colab": {
          "base_uri": "https://localhost:8080/"
        },
        "id": "L0Md16gxNAz6",
        "outputId": "cc48674d-91d3-4628-a68e-95fa41296a26"
      },
      "execution_count": null,
      "outputs": [
        {
          "output_type": "stream",
          "name": "stdout",
          "text": [
            "The factorial of 5 is 120\n",
            "The factorial of 7 is 5040\n",
            "The factorial of 10 is 3628800\n"
          ]
        }
      ]
    },
    {
      "cell_type": "markdown",
      "source": [
        "* The function uses a loop that repeats n times. Therefore, the time complexity is O(n), which is linear time.\n",
        "\n",
        "* Memoization can be used to store and reuse the results of previous factorial calculations.\n"
      ],
      "metadata": {
        "id": "XmEzLW61QtVG"
      }
    },
    {
      "cell_type": "markdown",
      "source": [
        "\n",
        "\n",
        "---\n",
        "\n"
      ],
      "metadata": {
        "id": "Xbd_-QdtaNKe"
      }
    },
    {
      "cell_type": "markdown",
      "source": [
        "# Prime Checker"
      ],
      "metadata": {
        "id": "1K4DkDH7abMP"
      }
    },
    {
      "source": [
        "# Prime Checker\n",
        "def is_prime(n):\n",
        "  \"\"\"\n",
        "  Checks if a given number is a prime number.\n",
        "\n",
        "  Args:\n",
        "    n: The number to check.\n",
        "\n",
        "  Returns:\n",
        "    True if n is a prime number, False otherwise.\n",
        "  \"\"\"\n",
        "  if n <= 1: # Checks if n is less than or equal to 1\n",
        "    return False  # Numbers less than or equal to 1 are not prime\n",
        "  for i in range(2, int(n**0.5) + 1):\n",
        "    if n % i == 0:\n",
        "      return False  # If divisible by any number in the range, it's not prime\n",
        "  return True  # If not divisible by any number, it's prime\n",
        "\n",
        "# Function Utilization\n",
        "numbers = [29, 57, 97]\n",
        "for num in numbers:\n",
        "  if is_prime(num):\n",
        "    print(f\"{num} is a prime number\")\n",
        "  else:\n",
        "    print(f\"{num} is not a prime number\")"
      ],
      "cell_type": "code",
      "metadata": {
        "colab": {
          "base_uri": "https://localhost:8080/"
        },
        "id": "Ty9TAfUYNUNY",
        "outputId": "1fbdfae7-91a8-4d74-c4eb-d3d03e5e84e2"
      },
      "execution_count": null,
      "outputs": [
        {
          "output_type": "stream",
          "name": "stdout",
          "text": [
            "29 is a prime number\n",
            "57 is not a prime number\n",
            "97 is a prime number\n"
          ]
        }
      ]
    },
    {
      "cell_type": "markdown",
      "source": [
        "* The function uses a loop that repeats up to the square root of n. Therefore, the time complexity is O(√n), which is square root time.\n",
        "\n",
        "* While the current implementation is pretty efficient, one minor optimization for large numbers is to use a pre-calculated list of primes. Instead of testing divisibility by all numbers up to √n, we could check the primes in this list. This could save some division operations.\n"
      ],
      "metadata": {
        "id": "iNgspWBCRbCn"
      }
    },
    {
      "cell_type": "markdown",
      "source": [
        "\n",
        "\n",
        "---\n",
        "\n"
      ],
      "metadata": {
        "id": "IX-WHcWBaPxB"
      }
    },
    {
      "cell_type": "markdown",
      "source": [
        "# GCD Calculator"
      ],
      "metadata": {
        "id": "VCYtgmBgafGa"
      }
    },
    {
      "source": [
        "# GCD Calculator\n",
        "def gcd(a, b):\n",
        "  \"\"\"\n",
        "  Computes the greatest common divisor (GCD) of two integers using Euclid's algorithm.\n",
        "\n",
        "  Args:\n",
        "    a: The first integer.\n",
        "    b: The second integer.\n",
        "\n",
        "  Returns:\n",
        "    The greatest common divisor of a and b.\n",
        "  \"\"\"\n",
        "  while b:\n",
        "    a, b = b, a % b\n",
        "  return a\n",
        "\n",
        "# Function Utilization\n",
        "pairs = [(48, 180), (56, 98), (101, 103)]\n",
        "for pair in pairs:\n",
        "  result = gcd(pair[0], pair[1])\n",
        "  print(f\"The GCD of {pair[0]} and {pair[1]} is {result}\")"
      ],
      "cell_type": "code",
      "metadata": {
        "colab": {
          "base_uri": "https://localhost:8080/"
        },
        "id": "Bl-nl9UMNeW5",
        "outputId": "9e527da0-1cef-4229-e8f8-f1d196448bbb"
      },
      "execution_count": null,
      "outputs": [
        {
          "output_type": "stream",
          "name": "stdout",
          "text": [
            "The GCD of 48 and 180 is 12\n",
            "The GCD of 56 and 98 is 14\n",
            "The GCD of 101 and 103 is 1\n"
          ]
        }
      ]
    },
    {
      "cell_type": "markdown",
      "source": [
        "* This function uses Euclid's algorithm, which has a time complexity of O(log min(a, b)), where min(a, b) represents the smaller of the two input numbers. This time complexity is logarithmic time.\n",
        "\n",
        "* Euclid's algorithm is already very effective in finding the GCD. Additional optimizations are unlikely to produce significant improvements.\n"
      ],
      "metadata": {
        "id": "_ORd0V62RcpP"
      }
    },
    {
      "cell_type": "markdown",
      "source": [
        "\n",
        "\n",
        "---\n",
        "\n"
      ],
      "metadata": {
        "id": "wNEJH3rgaRyp"
      }
    }
  ]
}